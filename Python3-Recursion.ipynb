{
  "nbformat": 4,
  "nbformat_minor": 0,
  "metadata": {
    "kernelspec": {
      "display_name": "Python 3",
      "language": "python",
      "name": "python3"
    },
    "language_info": {
      "codemirror_mode": {
        "name": "ipython",
        "version": 3
      },
      "file_extension": ".py",
      "mimetype": "text/x-python",
      "name": "python",
      "nbconvert_exporter": "python",
      "pygments_lexer": "ipython3",
      "version": "3.9.1"
    },
    "colab": {
      "name": "Recursion.ipynb",
      "provenance": [],
      "include_colab_link": true
    }
  },
  "cells": [
    {
      "cell_type": "markdown",
      "metadata": {
        "id": "view-in-github",
        "colab_type": "text"
      },
      "source": [
        "<a href=\"https://colab.research.google.com/github/ashutoshrcf/Python-Basics/blob/main/Recursion.ipynb\" target=\"_parent\"><img src=\"https://colab.research.google.com/assets/colab-badge.svg\" alt=\"Open In Colab\"/></a>"
      ]
    },
    {
      "cell_type": "markdown",
      "metadata": {
        "id": "tH2cAtNjlC8P"
      },
      "source": [
        "# Recursion"
      ]
    },
    {
      "cell_type": "markdown",
      "metadata": {
        "id": "wWYYUP4WlC8W"
      },
      "source": [
        "## Note \n",
        "In Python, there is a limit for recursive calls that can be made by a function.\n",
        "    So, If you want to use more than default limit (system dependent) for example in calculating \n",
        "    factorial of larger numbers then you can set your new limit by using follwing line of code:\n",
        "        \n",
        "        import sys\n",
        "        sys.setrecursionlimit(#Your desired limit in integer)"
      ]
    },
    {
      "cell_type": "markdown",
      "metadata": {
        "id": "Ek_zDbCAlC8X"
      },
      "source": [
        "1. Factorial of a number using Recursion"
      ]
    },
    {
      "cell_type": "code",
      "metadata": {
        "id": "E9_0vmcnlC8X"
      },
      "source": [
        "def fact(n):\n",
        "    if n==0:\n",
        "        return 1\n",
        "    return n * fact(n-1)"
      ],
      "execution_count": null,
      "outputs": []
    },
    {
      "cell_type": "markdown",
      "metadata": {
        "id": "KHYJcxwwlC8Y"
      },
      "source": [
        "2. Sum of first n Natural numbers"
      ]
    },
    {
      "cell_type": "code",
      "metadata": {
        "id": "4hkRtShIlC8Y"
      },
      "source": [
        "def sum_of_n(n):\n",
        "    if n==0:\n",
        "        return 0\n",
        "    return n + sum_of_n(n-1)"
      ],
      "execution_count": null,
      "outputs": []
    },
    {
      "cell_type": "markdown",
      "metadata": {
        "id": "hr_8EwavlC8Z"
      },
      "source": [
        "3. Power(x) of a number(n) using recursion"
      ]
    },
    {
      "cell_type": "code",
      "metadata": {
        "id": "1e7w7yX5lC8Z"
      },
      "source": [
        "def power_of_x(x,n):\n",
        "    if n==0:\n",
        "        return 1\n",
        "    return x * power_of_x(x,n-1)\n",
        "power_of_x(5,3)"
      ],
      "execution_count": null,
      "outputs": []
    },
    {
      "cell_type": "markdown",
      "metadata": {
        "id": "QPceVlRflC8Z"
      },
      "source": [
        "4. Print n numbers in decreasing order"
      ]
    },
    {
      "cell_type": "code",
      "metadata": {
        "id": "E77kq9TTlC8a"
      },
      "source": [
        "def printNumbers(n):\n",
        "    if(n<0):\n",
        "        return\n",
        "    print(n,end=\" \")\n",
        "    printNumbers(n-1)\n",
        "    #Use print statement here if you want in increasing order\n",
        "num = int(input())\n",
        "printNumbers(num)"
      ],
      "execution_count": null,
      "outputs": []
    },
    {
      "cell_type": "markdown",
      "metadata": {
        "id": "toNV3nlflC8a"
      },
      "source": [
        "5. Fibonacci series using Recursion"
      ]
    },
    {
      "cell_type": "code",
      "metadata": {
        "id": "VQqfoLIWlC8a"
      },
      "source": [
        "def fib(n):\n",
        "    if n==1:\n",
        "        return 1\n",
        "    elif n==0:\n",
        "        return 0\n",
        "    return fib(n-1) + fib(n-2)\n",
        "\n",
        "length=int(input())\n",
        "\n",
        "for num in range(length+1):\n",
        "    print(fib(num),end=\" \")"
      ],
      "execution_count": null,
      "outputs": []
    },
    {
      "cell_type": "markdown",
      "metadata": {
        "id": "Hy_p3-DzlC8a"
      },
      "source": [
        "6. Check if List is sorted or not, using recursion"
      ]
    },
    {
      "cell_type": "code",
      "metadata": {
        "id": "1R99Jk_AlC8b"
      },
      "source": [
        "def isSorted(li,start_index):\n",
        "    l=len(li)\n",
        "    if start_index == (l-1) or start_index == l:\n",
        "        return True\n",
        "    if li[start_index] > li[start_index + 1]:\n",
        "        return False\n",
        "    print (start_index)\n",
        "    return isSorted(li,start_index + 1)"
      ],
      "execution_count": null,
      "outputs": []
    },
    {
      "cell_type": "markdown",
      "metadata": {
        "id": "dla1CBtllC8b"
      },
      "source": [
        "7. Sum of digits in a list using recursion"
      ]
    },
    {
      "cell_type": "code",
      "metadata": {
        "id": "OVryCRA1lC8b"
      },
      "source": [
        "def sumList(li):\n",
        "    if not li:\n",
        "        return 0\n",
        "    else:\n",
        "        return li[0] + sumList(li[1:])"
      ],
      "execution_count": null,
      "outputs": []
    },
    {
      "cell_type": "markdown",
      "metadata": {
        "id": "QZCOAqCglC8b"
      },
      "source": [
        "8. Check if a number(x) is present in a list or not, if present `return index of first occurence` if not present `return -1`"
      ]
    },
    {
      "cell_type": "code",
      "metadata": {
        "id": "h9hTAlMelC8c"
      },
      "source": [
        "def firstIndex(li, x, start_index): #Give start_index=0 for first time\n",
        "    l = len(li)\n",
        "    if l==0:\n",
        "        return -1\n",
        "    if li[start_index] == x:\n",
        "        return start_index \n",
        "    if start_index == (l-1):\n",
        "        return -1\n",
        "    if l>1:\n",
        "        l-=1\n",
        "        return firstIndex(li,x,start_index+1)"
      ],
      "execution_count": null,
      "outputs": []
    },
    {
      "cell_type": "markdown",
      "metadata": {
        "id": "eWfdvLUnlC8c"
      },
      "source": [
        "9. Check if a number(x) is present in a list or not, if present `return index of last occurence` if not present `return -1`"
      ]
    },
    {
      "cell_type": "code",
      "metadata": {
        "id": "OZoAFUgIlC8c"
      },
      "source": [
        "def lastIndex(li, x, start_index): #Give start_index=0 for first time\n",
        "    l=len(li)\n",
        "    if start_index==l:\n",
        "        return -1\n",
        "    small=lastIndex(li, x, start_index+1)\n",
        "    if small!= -1:\n",
        "        return small\n",
        "    else:\n",
        "        if li[start_index] == x:\n",
        "            return start_index\n",
        "        else:\n",
        "            return -1"
      ],
      "execution_count": null,
      "outputs": []
    },
    {
      "cell_type": "markdown",
      "metadata": {
        "id": "JjOQVXZylC8c"
      },
      "source": [
        "10. Replace a character with another in a string"
      ]
    },
    {
      "cell_type": "code",
      "metadata": {
        "id": "xl_x0O3TlC8d"
      },
      "source": [
        "def replaceChar(string, char1, char2):\n",
        "    if len(string) == 0:\n",
        "        return string\n",
        "    smallString = replaceChar(string[1:], char1, char2)\n",
        "    if string[0] == char1:\n",
        "        return char2 + smallString\n",
        "    else:\n",
        "        return string[0] + smallString"
      ],
      "execution_count": null,
      "outputs": []
    },
    {
      "cell_type": "markdown",
      "metadata": {
        "id": "mefFVIKilC8d"
      },
      "source": [
        "11. Remove a character from string"
      ]
    },
    {
      "cell_type": "code",
      "metadata": {
        "id": "kMQHrq34lC8d"
      },
      "source": [
        "def removeX(string, char):\n",
        "    if len(string)==0:\n",
        "        return string\n",
        "    if string[0] == char:\n",
        "        return removeX(string[1:], char)\n",
        "    else:\n",
        "        return string[0] + removeX(string[1:], char)"
      ],
      "execution_count": null,
      "outputs": []
    },
    {
      "cell_type": "markdown",
      "metadata": {
        "id": "dQGSwPVwlC8d"
      },
      "source": [
        "12. Remove consequtive duplicates from string"
      ]
    },
    {
      "cell_type": "code",
      "metadata": {
        "id": "Ss-fyCDjlC8e"
      },
      "source": [
        "def removeConsecutiveDuplicates(string):\n",
        "    if len(string) == 0 or len(string) == 1:\n",
        "        return string\n",
        "    if string[0] == string[1] :\n",
        "        return removeConsecutiveDuplicates(string[1:])\n",
        "    else:\n",
        "        return string[0] + removeConsecutiveDuplicates(string[1:])"
      ],
      "execution_count": null,
      "outputs": []
    },
    {
      "cell_type": "markdown",
      "metadata": {
        "id": "Vfju0QKglC8e"
      },
      "source": [
        "<b>Binary Search</b>"
      ]
    },
    {
      "cell_type": "code",
      "metadata": {
        "id": "II1QOH0OlC8e"
      },
      "source": [
        "def binarySearch(li, element, start_index, end_index):\n",
        "    if start_index > end_index:\n",
        "        return -1\n",
        "    mid = (start_index + end_index)//2\n",
        "    if li[mid] == element:\n",
        "        return mid\n",
        "    elif li[mid] > element:\n",
        "        return binarySearch(li, element, start_index, mid - 1)\n",
        "    else:\n",
        "        return binarySearch(li, element, mid + 1, end_index)"
      ],
      "execution_count": null,
      "outputs": []
    },
    {
      "cell_type": "markdown",
      "metadata": {
        "id": "S2Keri_9lC8e"
      },
      "source": [
        "13. <b>Merge Sort</b> using recursion"
      ]
    },
    {
      "cell_type": "code",
      "metadata": {
        "id": "c2UcWqqZlC8f"
      },
      "source": [
        "def merge(left, right, li):\n",
        "    i, j, k = 0, 0, 0\n",
        "    while i < len(left) and j < len(right):\n",
        "        if(left[i] < right[j]):\n",
        "            li[k] = left[i]\n",
        "            i+=1\n",
        "            k+=1\n",
        "        else:\n",
        "            li[k] = right[j]\n",
        "            j+=1\n",
        "            k+=1\n",
        "    while i < len(left):\n",
        "        li[k] = left[i]\n",
        "        i+=1\n",
        "        k+=1\n",
        "    while j < len(right):\n",
        "        li[k] = right[j]\n",
        "        j+=1\n",
        "        k+=1    \n",
        "\n",
        "def mergeSort(li):\n",
        "    if len(li) == 0 or len(li) == 1:\n",
        "        return\n",
        "    mid = len(li)//2\n",
        "    left = li[0:mid]\n",
        "    right = li[mid:]\n",
        "    mergeSort(left)\n",
        "    mergeSort(right)\n",
        "    merge(left, right, li)\n",
        "\n",
        "arr=[123,54,123,54,12,15,42,1,45,4,161,2,1,15,132,1,51,201,54,1,42,42,42,42]\n",
        "mergeSort(arr)\n",
        "print(*arr)"
      ],
      "execution_count": null,
      "outputs": []
    },
    {
      "cell_type": "markdown",
      "metadata": {
        "id": "L5XexjlrlC8g"
      },
      "source": [
        "14. <b>Quick Sort </b>using recursion"
      ]
    },
    {
      "cell_type": "code",
      "metadata": {
        "id": "2lMGL4fxlC8g"
      },
      "source": [
        "def partition(arr, start, end):\n",
        "    pivot = arr[end]\n",
        "    \n",
        "    i = (start - 1)\n",
        "    \n",
        "    for j in range(start, end):\n",
        "        if(arr[j] <= pivot):\n",
        "            i+=1\n",
        "            arr[i],arr[j] = arr[j],arr[i] \n",
        "    arr[i+1],arr[end] = arr[end],arr[i+1] \n",
        "    return i+1\n",
        "\n",
        "def quickSort(arr, start, end):\n",
        "    if (start < end):\n",
        "        pi=partition(arr, start, end)\n",
        "        quickSort(arr, start, pi - 1)\n",
        "        quickSort(arr, pi + 1, end)\n",
        "        \n",
        "a=[15,35,4,7,82,1,57,56,46,47,4242,42,2456,54]\n",
        "quickSort(a,0,(len(a)-1))\n",
        "print(*a)"
      ],
      "execution_count": null,
      "outputs": []
    },
    {
      "cell_type": "markdown",
      "metadata": {
        "id": "jrf6CRMolC8g"
      },
      "source": [
        "15. <b>Tower of Hanoi</b>"
      ]
    },
    {
      "cell_type": "code",
      "metadata": {
        "id": "8Hljok0dlC8g"
      },
      "source": [
        "def towerofhanoi(n, source, aux, dest):\n",
        "    if n == 0:\n",
        "        return\n",
        "    if n == 1:\n",
        "        print (source+\" --> \"+dest)\n",
        "        return\n",
        "    towerofhanoi(n - 1, source, dest, aux)\n",
        "    print(source+\" --> \"+dest)\n",
        "    towerofhanoi(n - 1, aux, source, dest)\n",
        "\n",
        "n=int(input())\n",
        "towerofhanoi(n, 'Source', 'Helper', 'Dest')"
      ],
      "execution_count": null,
      "outputs": []
    }
  ]
}
